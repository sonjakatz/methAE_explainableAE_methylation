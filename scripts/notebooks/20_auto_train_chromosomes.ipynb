{
 "cells": [
  {
   "cell_type": "code",
   "execution_count": 4,
   "id": "ef7b3567",
   "metadata": {},
   "outputs": [],
   "source": [
    "import os\n",
    "import pandas as pd\n",
    "import numpy as np\n",
    "import json\n",
    "import pickle \n",
    "import torch\n",
    "import itertools\n",
    "import time"
   ]
  },
  {
   "cell_type": "code",
   "execution_count": 5,
   "id": "3798f3f3",
   "metadata": {},
   "outputs": [],
   "source": [
    "PATH_data = \"/data/scratch/skatz/PROJECTS/methylnet/1_healthyVAE/data/GSE87571/train_val_test_sets/\""
   ]
  },
  {
   "cell_type": "code",
   "execution_count": 15,
   "id": "44be3b0f",
   "metadata": {},
   "outputs": [
    {
     "name": "stdout",
     "output_type": "stream",
     "text": [
      "Number of CpGs for chromosome_chr14: \t9417\n",
      "Hidden layers: \t2830 - 570\n",
      "LatSizes (coarse search): \t [280, 140, 70, 40, 20, 10]\n"
     ]
    }
   ],
   "source": [
    "CHR = \"chr14\"\n",
    "PATH_results = f\"logs/optimisation/{CHR}/coarse\"\n",
    "os.makedirs(PATH_results, exist_ok=True)\n",
    "param_grid = dict()\n",
    "\n",
    "### Step 1: how many CpGs in chromosome of choice?\n",
    "with open(os.path.join(PATH_data, f\"{CHR}_train_methyl_array.pkl\"), \"rb\") as f: train_dataset = pickle.load(f) #\n",
    "num_cpgs = train_dataset[\"beta\"].shape[1]\n",
    "print(f\"Number of CpGs for chromosome_{CHR}: \\t{num_cpgs}\")\n",
    "\n",
    "### Step 2: design hidden layers (fixed to two hidden layers)\n",
    "reduction_rate_hidden_layers = [0.30, 0.20]\n",
    "hidden_1 = int(round(num_cpgs*reduction_rate_hidden_layers[0], -1))  # Hidden layer 1: reduction to 30% \n",
    "hidden_2 = int(round(hidden_1*reduction_rate_hidden_layers[1], -1))  # Hidden layer 2: reduction to another 20% --> total reduction to 6%\n",
    "param_grid[\"hidden_layer_encoder_topology\"] = [hidden_1, hidden_2]\n",
    "print(f\"Hidden layers: \\t{hidden_1} - {hidden_2}\")\n",
    "\n",
    "### Step 3: design latSizes to try for coarse grained search\n",
    "reduction_latSize_coarse = [2,4,8,16,32,64]\n",
    "latSize_coarse = [int(round(hidden_2/ele, -1)) for ele in reduction_latSize_coarse]\n",
    "if latSize_coarse[-1] == 0: ### don't allow it to be 0\n",
    "    latSize_coarse[-1] = 5\n",
    "param_grid[\"latentSize_coarse\"] = latSize_coarse\n",
    "print(f\"LatSizes (coarse search): \\t {latSize_coarse}\")\n",
    "\n",
    "### Step 4: decide on lr and dropout rates to try\n",
    "### lr_scan = [1e-4,1e-3,1e-2,1e-1]  ##### **NOTE from later experiments:** does **not** train with too high learning rates (0.1, 0.01)\n",
    "lr_scan = [1e-4, 5e-4, 1e-3, 5e-3] \n",
    "param_grid[\"lr\"] = lr_scan\n",
    "dropout_scan = [0.1,0.3,0.5]\n",
    "param_grid[\"dropout\"] = dropout_scan\n",
    "\n",
    "### Save parameter grid in file for later documentation\n",
    "with open(f\"{PATH_results}/param_grid_coarse.json\", \"w\") as f: f.write(json.dumps(param_grid, indent=\"\\t\"))\n"
   ]
  },
  {
   "cell_type": "code",
   "execution_count": 16,
   "id": "67274a32",
   "metadata": {},
   "outputs": [
    {
     "name": "stdout",
     "output_type": "stream",
     "text": [
      "Number of combinations: 72\n",
      "Wrote file \tlatSize_280_lr_0.0001_dropr_0.1\n",
      "Wrote file \tlatSize_280_lr_0.0001_dropr_0.3\n",
      "Wrote file \tlatSize_280_lr_0.0001_dropr_0.5\n",
      "Wrote file \tlatSize_280_lr_0.0005_dropr_0.1\n",
      "Wrote file \tlatSize_280_lr_0.0005_dropr_0.3\n",
      "Wrote file \tlatSize_280_lr_0.0005_dropr_0.5\n",
      "Wrote file \tlatSize_280_lr_0.001_dropr_0.1\n",
      "Wrote file \tlatSize_280_lr_0.001_dropr_0.3\n",
      "Wrote file \tlatSize_280_lr_0.001_dropr_0.5\n",
      "Wrote file \tlatSize_280_lr_0.005_dropr_0.1\n",
      "Wrote file \tlatSize_280_lr_0.005_dropr_0.3\n",
      "Wrote file \tlatSize_280_lr_0.005_dropr_0.5\n",
      "Wrote file \tlatSize_140_lr_0.0001_dropr_0.1\n",
      "Wrote file \tlatSize_140_lr_0.0001_dropr_0.3\n",
      "Wrote file \tlatSize_140_lr_0.0001_dropr_0.5\n",
      "Wrote file \tlatSize_140_lr_0.0005_dropr_0.1\n",
      "Wrote file \tlatSize_140_lr_0.0005_dropr_0.3\n",
      "Wrote file \tlatSize_140_lr_0.0005_dropr_0.5\n",
      "Wrote file \tlatSize_140_lr_0.001_dropr_0.1\n",
      "Wrote file \tlatSize_140_lr_0.001_dropr_0.3\n",
      "Wrote file \tlatSize_140_lr_0.001_dropr_0.5\n",
      "Wrote file \tlatSize_140_lr_0.005_dropr_0.1\n",
      "Wrote file \tlatSize_140_lr_0.005_dropr_0.3\n",
      "Wrote file \tlatSize_140_lr_0.005_dropr_0.5\n",
      "Wrote file \tlatSize_70_lr_0.0001_dropr_0.1\n",
      "Wrote file \tlatSize_70_lr_0.0001_dropr_0.3\n",
      "Wrote file \tlatSize_70_lr_0.0001_dropr_0.5\n",
      "Wrote file \tlatSize_70_lr_0.0005_dropr_0.1\n",
      "Wrote file \tlatSize_70_lr_0.0005_dropr_0.3\n",
      "Wrote file \tlatSize_70_lr_0.0005_dropr_0.5\n",
      "Wrote file \tlatSize_70_lr_0.001_dropr_0.1\n",
      "Wrote file \tlatSize_70_lr_0.001_dropr_0.3\n",
      "Wrote file \tlatSize_70_lr_0.001_dropr_0.5\n",
      "Wrote file \tlatSize_70_lr_0.005_dropr_0.1\n",
      "Wrote file \tlatSize_70_lr_0.005_dropr_0.3\n",
      "Wrote file \tlatSize_70_lr_0.005_dropr_0.5\n",
      "Wrote file \tlatSize_40_lr_0.0001_dropr_0.1\n",
      "Wrote file \tlatSize_40_lr_0.0001_dropr_0.3\n",
      "Wrote file \tlatSize_40_lr_0.0001_dropr_0.5\n",
      "Wrote file \tlatSize_40_lr_0.0005_dropr_0.1\n",
      "Wrote file \tlatSize_40_lr_0.0005_dropr_0.3\n",
      "Wrote file \tlatSize_40_lr_0.0005_dropr_0.5\n",
      "Wrote file \tlatSize_40_lr_0.001_dropr_0.1\n",
      "Wrote file \tlatSize_40_lr_0.001_dropr_0.3\n",
      "Wrote file \tlatSize_40_lr_0.001_dropr_0.5\n",
      "Wrote file \tlatSize_40_lr_0.005_dropr_0.1\n",
      "Wrote file \tlatSize_40_lr_0.005_dropr_0.3\n",
      "Wrote file \tlatSize_40_lr_0.005_dropr_0.5\n",
      "Wrote file \tlatSize_20_lr_0.0001_dropr_0.1\n",
      "Wrote file \tlatSize_20_lr_0.0001_dropr_0.3\n",
      "Wrote file \tlatSize_20_lr_0.0001_dropr_0.5\n",
      "Wrote file \tlatSize_20_lr_0.0005_dropr_0.1\n",
      "Wrote file \tlatSize_20_lr_0.0005_dropr_0.3\n",
      "Wrote file \tlatSize_20_lr_0.0005_dropr_0.5\n",
      "Wrote file \tlatSize_20_lr_0.001_dropr_0.1\n",
      "Wrote file \tlatSize_20_lr_0.001_dropr_0.3\n",
      "Wrote file \tlatSize_20_lr_0.001_dropr_0.5\n",
      "Wrote file \tlatSize_20_lr_0.005_dropr_0.1\n",
      "Wrote file \tlatSize_20_lr_0.005_dropr_0.3\n",
      "Wrote file \tlatSize_20_lr_0.005_dropr_0.5\n",
      "Wrote file \tlatSize_10_lr_0.0001_dropr_0.1\n",
      "Wrote file \tlatSize_10_lr_0.0001_dropr_0.3\n",
      "Wrote file \tlatSize_10_lr_0.0001_dropr_0.5\n",
      "Wrote file \tlatSize_10_lr_0.0005_dropr_0.1\n",
      "Wrote file \tlatSize_10_lr_0.0005_dropr_0.3\n",
      "Wrote file \tlatSize_10_lr_0.0005_dropr_0.5\n",
      "Wrote file \tlatSize_10_lr_0.001_dropr_0.1\n",
      "Wrote file \tlatSize_10_lr_0.001_dropr_0.3\n",
      "Wrote file \tlatSize_10_lr_0.001_dropr_0.5\n",
      "Wrote file \tlatSize_10_lr_0.005_dropr_0.1\n",
      "Wrote file \tlatSize_10_lr_0.005_dropr_0.3\n",
      "Wrote file \tlatSize_10_lr_0.005_dropr_0.5\n"
     ]
    }
   ],
   "source": [
    "### Step 5: generate combinations of parameters and replace in file; standaline script?\n",
    "### Load parameter grid\n",
    "with open(f\"{PATH_results}/param_grid_coarse.json\", \"r\") as f: param_grid_comb=json.loads(f.read())\n",
    "\n",
    "### Generate combinations; remove 'hidden_layer_encoder_topology' before, as it should be fixed\n",
    "param_grid = param_grid_comb.copy()\n",
    "param_grid_comb.pop(\"hidden_layer_encoder_topology\", None)\n",
    "combs_coarse = [dict(zip(param_grid_comb.keys(), values)) for values in itertools.product(*param_grid_comb.values())]\n",
    "print(f\"Number of combinations: {len(combs_coarse)}\")\n",
    "\n",
    "### Generate submit.sh with combinations\n",
    "os.makedirs(f\"{PATH_results}/submit\", exist_ok=True)\n",
    "with open(\"submit_template.sh\", \"r\") as f: template=f.read()\n",
    "for i in range(len(combs_coarse)):                          \n",
    "    latSize = str(combs_coarse[i][\"latentSize_coarse\"])\n",
    "    lr = str(combs_coarse[i][\"lr\"])\n",
    "    dropr = str(combs_coarse[i][\"dropout\"])\n",
    "    \n",
    "    ### Generate run name - combination of parameter settings\n",
    "    fileName = f\"latSize_{latSize}_lr_{lr}_dropr_{dropr}\"\n",
    "    ### Replace in template file\n",
    "    template_updated = template.replace(\"$PATH\", str(PATH_results+\"/\"+fileName)) \\\n",
    "                               .replace(\"$CHR\",  str(CHR)) \\\n",
    "                               .replace(\"$HIDDEN_1\", str(param_grid[\"hidden_layer_encoder_topology\"][0])) \\\n",
    "                               .replace(\"$HIDDEN_2\", str(param_grid[\"hidden_layer_encoder_topology\"][1])) \\\n",
    "                               .replace(\"$LATSIZE\", latSize) \\\n",
    "                               .replace(\"$LR\", lr) \\\n",
    "                               .replace(\"$DROPR\", dropr)\n",
    "    with open(f\"{PATH_results}/submit/{fileName}.sh\", \"w\") as f: f.write(template_updated)\n",
    "    print(f\"Wrote file \\t{fileName}\")"
   ]
  },
  {
   "cell_type": "markdown",
   "id": "08e84314",
   "metadata": {},
   "source": [
    "### DEV: script submitting and tracking progress"
   ]
  },
  {
   "cell_type": "code",
   "execution_count": 10,
   "id": "87a6e34d",
   "metadata": {},
   "outputs": [],
   "source": [
    "### Initialise log file only once!!\n",
    "#with open(f\"{path_log}/log_submitted_jobs.txt\", \"w\") as f: f.write(\"\")"
   ]
  },
  {
   "cell_type": "code",
   "execution_count": 14,
   "id": "ca8da54a",
   "metadata": {},
   "outputs": [
    {
     "name": "stdout",
     "output_type": "stream",
     "text": [
      "Submitted batch job 148069\n",
      "Cluster full \t\t current jobs: \t 3\t-\t limit for myself: 3\n",
      "\n",
      "Number of finished jobs: \t2 / 72\n"
     ]
    }
   ],
   "source": [
    "import subprocess\n",
    "joblimit = 3\n",
    "\n",
    "### Set path \n",
    "path_log = f\"{PATH_results}/submit\"\n",
    "\n",
    "### Check number of jobs submitted to the cluster\n",
    "numRunningJobs = int(subprocess.run(\"squeue | grep 'katz' | wc -l\", shell=True, capture_output=True, text=True).stdout.strip(\"\\n\"))\n",
    "\n",
    "### Loop over jobs and chekc if they have been subitted; if not: submit and add to `log_submitted_jobs.txt`\n",
    "for file in os.listdir(path_log):\n",
    "    if file.endswith(\".sh\"):\n",
    "        ### if less than 10 jobs - submit new ones!\n",
    "        while numRunningJobs < joblimit:  \n",
    "            #print(file)\n",
    "            ### Get jobs that have already been submitted\n",
    "            with open(f\"{path_log}/log_submitted_jobs.txt\", \"r\") as f: jobsFinished = f.read().splitlines()\n",
    "            if file not in jobsFinished:\n",
    "                ### Submit and record in log\n",
    "                call = f\"sbatch {path_log}/{str(file)}\"\n",
    "                subprocess.run(call, shell=True) \n",
    "                with open(f\"{path_log}/log_submitted_jobs.txt\", \"w\") as f: [f.write(line+\"\\n\") for line in jobsFinished + [file]]\n",
    "            else: break\n",
    "            ## recheck submitted jobs to break loop\n",
    "            time.sleep(1)\n",
    "            numRunningJobs = int(subprocess.run(\"squeue | grep 'katz' | wc -l\", shell=True, capture_output=True, text=True).stdout.strip(\"\\n\"))\n",
    "else: \n",
    "    print(f\"Cluster full \\t\\t current jobs: \\t {numRunningJobs}\\t-\\t limit for myself: {joblimit}\")\n",
    "    \n",
    "print(f\"\\nNumber of finished jobs: \\t{len(jobsFinished)} / 72\")"
   ]
  },
  {
   "cell_type": "code",
   "execution_count": null,
   "id": "def4338e",
   "metadata": {},
   "outputs": [],
   "source": []
  },
  {
   "cell_type": "code",
   "execution_count": null,
   "id": "9675664d",
   "metadata": {},
   "outputs": [],
   "source": []
  },
  {
   "cell_type": "code",
   "execution_count": null,
   "id": "a58187b2",
   "metadata": {},
   "outputs": [],
   "source": []
  },
  {
   "cell_type": "code",
   "execution_count": null,
   "id": "e4b811cc",
   "metadata": {},
   "outputs": [],
   "source": []
  },
  {
   "cell_type": "code",
   "execution_count": null,
   "id": "ce73c04a",
   "metadata": {},
   "outputs": [],
   "source": []
  },
  {
   "cell_type": "code",
   "execution_count": 143,
   "id": "3b0b612c",
   "metadata": {},
   "outputs": [
    {
     "name": "stdout",
     "output_type": "stream",
     "text": [
      "{'latentSize_coarse': 200, 'lr': 0.0001, 'dropout': 0.1}\n",
      "{'latentSize_coarse': 200, 'lr': 0.0001, 'dropout': 0.3}\n",
      "{'latentSize_coarse': 200, 'lr': 0.0001, 'dropout': 0.5}\n"
     ]
    }
   ],
   "source": [
    "with open(\"submit_template.sh\", \"r\") as f: template=f.read()\n",
    "for i in range(3):\n",
    "    latSize = str(combs_coarse[i][\"latentSize_coarse\"])\n",
    "    lr = str(combs_coarse[i][\"lr\"])\n",
    "    dropr = str(combs_coarse[i][\"dropout\"])\n",
    "    \n",
    "    ### Generate run name - combination of parameter settings\n",
    "    fileName = f\"latSize_{latSize}_lr_{lr}_dropr_{dropr}\"\n",
    "    ### Replace in template file\n",
    "    template_updated = template.replace(\"$PATH\", str(PATH_results+\"/\"+fileName)) \\\n",
    "                               .replace(\"$CHR\",  str(CHR)) \\\n",
    "                               .replace(\"$HIDDEN_1\", str(param_grid[\"hidden_layer_encoder_topology\"][0])) \\\n",
    "                               .replace(\"$HIDDEN_2\", str(param_grid[\"hidden_layer_encoder_topology\"][1])) \\\n",
    "                               .replace(\"$LATSIZE\", latSize) \\\n",
    "                               .replace(\"$LR\", lr) \\\n",
    "                               .replace(\"$DROPR\", dropr)\n",
    "    with open(f\"{PATH_results}/submit/submit_{fileName}.sh\", \"w\") as f: f.write(template_updated)"
   ]
  },
  {
   "cell_type": "code",
   "execution_count": 139,
   "id": "df1b2991",
   "metadata": {},
   "outputs": [
    {
     "data": {
      "text/plain": [
       "'logs/optimisation/chr20/latSize_200_lr_0.0001_dropr_0.5'"
      ]
     },
     "execution_count": 139,
     "metadata": {},
     "output_type": "execute_result"
    }
   ],
   "source": [
    "PATH_results+\"/\"+fileName"
   ]
  },
  {
   "cell_type": "code",
   "execution_count": 135,
   "id": "f342aece",
   "metadata": {},
   "outputs": [
    {
     "data": {
      "text/plain": [
       "200"
      ]
     },
     "execution_count": 135,
     "metadata": {},
     "output_type": "execute_result"
    }
   ],
   "source": [
    "latSize_{combs_coarse[i][\"latentSize_coarse\"]}_"
   ]
  },
  {
   "cell_type": "code",
   "execution_count": 109,
   "id": "035a9ccb",
   "metadata": {},
   "outputs": [],
   "source": [
    "## Experiment: try reading file and removing things\n",
    "with open(\"submit_template.sh\", \"r\") as f: template=f.read()\n",
    "template_updated = template.replace(\"$CHR\", str(CHR)) \\\n",
    "                           .replace(\"$HIDDEN_1\", str(15))\n",
    "with open(f\"submit_{CHR}.sh\", \"w\") as f: f.write(template_updated)"
   ]
  },
  {
   "cell_type": "code",
   "execution_count": null,
   "id": "491dc41d",
   "metadata": {},
   "outputs": [],
   "source": []
  },
  {
   "cell_type": "code",
   "execution_count": null,
   "id": "f302a3b8",
   "metadata": {},
   "outputs": [],
   "source": []
  }
 ],
 "metadata": {
  "kernelspec": {
   "display_name": "Python 3 (ipykernel)",
   "language": "python",
   "name": "python3"
  },
  "language_info": {
   "codemirror_mode": {
    "name": "ipython",
    "version": 3
   },
   "file_extension": ".py",
   "mimetype": "text/x-python",
   "name": "python",
   "nbconvert_exporter": "python",
   "pygments_lexer": "ipython3",
   "version": "3.9.5"
  }
 },
 "nbformat": 4,
 "nbformat_minor": 5
}
