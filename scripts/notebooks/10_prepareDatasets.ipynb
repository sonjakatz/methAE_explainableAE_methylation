{
 "cells": [
  {
   "cell_type": "markdown",
   "id": "a50f3f2d",
   "metadata": {},
   "source": [
    "# Prepare dataset for analysis (GSE87571)\n",
    "\n",
    "- AGE dataset (GSE87571) --> downloaded from methylnet github\n",
    "- parse only CpGs from a specified chromosome"
   ]
  },
  {
   "cell_type": "code",
   "execution_count": 2,
   "id": "ab10e19f",
   "metadata": {},
   "outputs": [],
   "source": [
    "import numpy as np\n",
    "import torch\n",
    "import pickle\n",
    "import pandas as pd\n",
    "import os\n",
    "from data.prepareData import prepareDataLoader_fromPkl"
   ]
  },
  {
   "cell_type": "code",
   "execution_count": 3,
   "id": "d5619e67",
   "metadata": {},
   "outputs": [],
   "source": [
    "PATH_DATA = \"/data/scratch/skatz/PROJECTS/methylnet/1_healthyVAE/data\"\n",
    "PATH_manifest = \"/data/scratch/skatz/PROJECTS/methylnet\"\n",
    "DATASET = \"GSE87571\""
   ]
  },
  {
   "cell_type": "code",
   "execution_count": 5,
   "id": "dd0124cf",
   "metadata": {},
   "outputs": [
    {
     "data": {
      "text/plain": [
       "'GSE87571'"
      ]
     },
     "execution_count": 5,
     "metadata": {},
     "output_type": "execute_result"
    }
   ],
   "source": [
    "DATASET"
   ]
  },
  {
   "cell_type": "code",
   "execution_count": 1,
   "id": "c3b0a639",
   "metadata": {
    "scrolled": true
   },
   "outputs": [
    {
     "ename": "NameError",
     "evalue": "name 'pd' is not defined",
     "output_type": "error",
     "traceback": [
      "\u001b[0;31m---------------------------------------------------------------------------\u001b[0m",
      "\u001b[0;31mNameError\u001b[0m                                 Traceback (most recent call last)",
      "Cell \u001b[0;32mIn[1], line 2\u001b[0m\n\u001b[1;32m      1\u001b[0m \u001b[38;5;66;03m### Load Manifest\u001b[39;00m\n\u001b[0;32m----> 2\u001b[0m df_manifest \u001b[38;5;241m=\u001b[39m \u001b[43mpd\u001b[49m\u001b[38;5;241m.\u001b[39mread_csv(\u001b[38;5;124mf\u001b[39m\u001b[38;5;124m\"\u001b[39m\u001b[38;5;132;01m{\u001b[39;00mPATH_manifest\u001b[38;5;132;01m}\u001b[39;00m\u001b[38;5;124m/humanmethylation450_15017482_v1-2.csv\u001b[39m\u001b[38;5;124m\"\u001b[39m, skiprows\u001b[38;5;241m=\u001b[39m\u001b[38;5;241m6\u001b[39m, header\u001b[38;5;241m=\u001b[39m\u001b[38;5;241m1\u001b[39m, index_col\u001b[38;5;241m=\u001b[39m\u001b[38;5;241m0\u001b[39m, low_memory\u001b[38;5;241m=\u001b[39m\u001b[38;5;28;01mFalse\u001b[39;00m)\n\u001b[1;32m      4\u001b[0m \u001b[38;5;124;03m'''\u001b[39;00m\n\u001b[1;32m      5\u001b[0m \u001b[38;5;124;03mPer Chromosome parsing\u001b[39;00m\n\u001b[1;32m      6\u001b[0m \u001b[38;5;124;03m'''\u001b[39;00m\n\u001b[1;32m      7\u001b[0m \u001b[38;5;28;01mfor\u001b[39;00m ele \u001b[38;5;129;01min\u001b[39;00m \u001b[38;5;28mrange\u001b[39m(\u001b[38;5;241m1\u001b[39m,\u001b[38;5;241m2\u001b[39m):\n",
      "\u001b[0;31mNameError\u001b[0m: name 'pd' is not defined"
     ]
    }
   ],
   "source": [
    "### Load Manifest\n",
    "df_manifest = pd.read_csv(f\"{PATH_manifest}/humanmethylation450_15017482_v1-2.csv\", skiprows=6, header=1, index_col=0, low_memory=False)\n",
    "\n",
    "'''\n",
    "Per Chromosome parsing\n",
    "'''\n",
    "for ele in range(1,2):\n",
    "    print(f\"\\n\\n{ele}\")\n",
    "    chr = str(ele)\n",
    "    ## select relevant chromosome to parse\n",
    "    probes_chr = df_manifest[df_manifest[\"CHR\"] == chr].index.tolist()\n",
    "    print(len(probes_chr))\n",
    "    \n",
    "    ### Find overlap between probes form Chr and what's left after preprocessing\n",
    "    ds = pickle.load(open(f\"{PATH_DATA}/{DATASET}/train_val_test_sets/train_methyl_array.pkl\", \"rb\"))\n",
    "    cpgs = ds[\"beta\"].columns[ds[\"beta\"].columns.isin(probes_chr)]\n",
    "    print(len(cpgs))"
   ]
  },
  {
   "cell_type": "code",
   "execution_count": 5,
   "id": "ca19068e",
   "metadata": {},
   "outputs": [
    {
     "name": "stdout",
     "output_type": "stream",
     "text": [
      "train_methyl_array.pkl\n",
      "Size: (504, 17044)\n",
      "test_methyl_array.pkl\n",
      "Size: (144, 17044)\n",
      "val_methyl_array.pkl\n",
      "Size: (72, 17044)\n"
     ]
    }
   ],
   "source": [
    "### Load Dataset\n",
    "for file in [\"train_methyl_array.pkl\", \"test_methyl_array.pkl\", \"val_methyl_array.pkl\"]:\n",
    "    print(file)\n",
    "    ds = pickle.load(open(f\"{PATH_DATA}/{DATASET}/train_val_test_sets/{file}\", \"rb\"))\n",
    "\n",
    "    ### save only those probes\n",
    "    ds[\"beta\"] = ds[\"beta\"].loc[:,cpgs]\n",
    "    print(f\"Size: {ds['beta'].shape}\")\n",
    "    #\n",
    "    pickle.dump(ds, open(f\"{PATH_DATA}/{DATASET}/train_val_test_sets/chr{chr}_{file}\", \"wb\"))"
   ]
  }
 ],
 "metadata": {
  "kernelspec": {
   "display_name": "Python 3 (ipykernel)",
   "language": "python",
   "name": "python3"
  },
  "language_info": {
   "codemirror_mode": {
    "name": "ipython",
    "version": 3
   },
   "file_extension": ".py",
   "mimetype": "text/x-python",
   "name": "python",
   "nbconvert_exporter": "python",
   "pygments_lexer": "ipython3",
   "version": "3.9.5"
  },
  "vscode": {
   "interpreter": {
    "hash": "3992ab943128cc4cf985d7ce129cb55b97cc0536705b4d7d2d01b5a593c32f90"
   }
  }
 },
 "nbformat": 4,
 "nbformat_minor": 5
}
