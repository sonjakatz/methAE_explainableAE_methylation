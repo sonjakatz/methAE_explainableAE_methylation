{
 "cells": [
  {
   "cell_type": "markdown",
   "id": "f5efea1a",
   "metadata": {},
   "source": [
    "# Clean cluster"
   ]
  },
  {
   "cell_type": "code",
   "execution_count": 3,
   "id": "e0fb9217",
   "metadata": {},
   "outputs": [],
   "source": [
    "import os \n",
    "import sys\n",
    "import json"
   ]
  },
  {
   "cell_type": "code",
   "execution_count": 4,
   "id": "51515fec",
   "metadata": {},
   "outputs": [],
   "source": [
    "delete_sure = True"
   ]
  },
  {
   "cell_type": "code",
   "execution_count": 7,
   "id": "aee2409a",
   "metadata": {},
   "outputs": [
    {
     "name": "stdout",
     "output_type": "stream",
     "text": [
      "logs/optimisation/chr1/fine\n",
      "latSize_72_lr_0.0001_dropr_0.1\n",
      "Spared best model: latSize_72_lr_0.0001_dropr_0.1\n",
      "logs/optimisation/chr2/fine\n",
      "latSize_60_lr_0.0001_dropr_0.1\n",
      "Spared best model: latSize_60_lr_0.0001_dropr_0.1\n",
      "logs/optimisation/chr3/fine\n",
      "latSize_45_lr_0.0001_dropr_0.1\n",
      "Spared best model: latSize_45_lr_0.0001_dropr_0.1\n",
      "logs/optimisation/chr4/fine\n",
      "latSize_50_lr_0.0001_dropr_0.1\n",
      "Spared best model: latSize_50_lr_0.0001_dropr_0.1\n",
      "logs/optimisation/chr5/fine\n",
      "latSize_38_lr_0.0001_dropr_0.1\n",
      "Spared best model: latSize_38_lr_0.0001_dropr_0.1\n",
      "logs/optimisation/chr6/fine\n",
      "latSize_78_lr_0.0005_dropr_0.1\n",
      "Spared best model: latSize_78_lr_0.0005_dropr_0.1\n",
      "logs/optimisation/chr7/fine\n",
      "latSize_70_lr_0.0001_dropr_0.1\n",
      "Spared best model: latSize_70_lr_0.0001_dropr_0.1\n",
      "logs/optimisation/chr8/fine\n",
      "latSize_88_lr_0.0005_dropr_0.3\n",
      "Spared best model: latSize_88_lr_0.0005_dropr_0.3\n",
      "logs/optimisation/chr9/fine\n",
      "latSize_88_lr_0.0005_dropr_0.3\n",
      "Spared best model: latSize_88_lr_0.0005_dropr_0.3\n",
      "logs/optimisation/chr10/fine\n",
      "latSize_52_lr_0.0001_dropr_0.1\n",
      "Spared best model: latSize_52_lr_0.0001_dropr_0.1\n",
      "logs/optimisation/chr11/fine\n",
      "latSize_50_lr_0.0001_dropr_0.1\n",
      "Spared best model: latSize_50_lr_0.0001_dropr_0.1\n",
      "logs/optimisation/chr12/fine\n",
      "latSize_52_lr_0.0001_dropr_0.1\n",
      "Spared best model: latSize_52_lr_0.0001_dropr_0.1\n",
      "logs/optimisation/chr13/fine\n",
      "latSize_90_lr_0.0005_dropr_0.3\n",
      "Spared best model: latSize_90_lr_0.0005_dropr_0.3\n",
      "logs/optimisation/chr14/fine\n",
      "latSize_48_lr_0.0001_dropr_0.1\n",
      "Spared best model: latSize_48_lr_0.0001_dropr_0.1\n",
      "logs/optimisation/chr15/fine\n",
      "latSize_48_lr_0.0001_dropr_0.1\n",
      "Spared best model: latSize_48_lr_0.0001_dropr_0.1\n",
      "logs/optimisation/chr16/fine\n",
      "latSize_50_lr_0.0001_dropr_0.1\n",
      "Spared best model: latSize_50_lr_0.0001_dropr_0.1\n",
      "logs/optimisation/chr17/fine\n",
      "latSize_60_lr_0.0001_dropr_0.1\n",
      "Spared best model: latSize_60_lr_0.0001_dropr_0.1\n",
      "logs/optimisation/chr18/fine\n",
      "latSize_72_lr_0.0005_dropr_0.3\n",
      "Spared best model: latSize_72_lr_0.0005_dropr_0.3\n",
      "logs/optimisation/chr19/fine\n",
      "latSize_60_lr_0.0001_dropr_0.1\n",
      "Spared best model: latSize_60_lr_0.0001_dropr_0.1\n",
      "logs/optimisation/chr20/fine\n",
      "latSize_88_lr_0.0005_dropr_0.3\n",
      "Spared best model: latSize_88_lr_0.0005_dropr_0.3\n",
      "logs/optimisation/chr21/fine\n",
      "latSize_60_lr_0.0005_dropr_0.1\n",
      "Spared best model: latSize_60_lr_0.0005_dropr_0.1\n",
      "logs/optimisation/chr22/fine\n",
      "latSize_70_lr_0.0005_dropr_0.3\n",
      "Spared best model: latSize_70_lr_0.0005_dropr_0.3\n"
     ]
    }
   ],
   "source": [
    "if delete_sure:\n",
    "    for CHR in [f\"chr{i}\" for i in range(1,23)]: # 23\n",
    "        ### Get best model\n",
    "        PATH_results = f\"logs/optimisation/{CHR}/fine\"\n",
    "        print(PATH_results)\n",
    "        with open(f\"{PATH_results}/best_model_fineOptimization.json\", \"r\") as f: dict_bestModel = json.load(f)\n",
    "        latSize = dict_bestModel[\"latSize\"]\n",
    "        lr = dict_bestModel[\"lr\"]\n",
    "        dropr = dict_bestModel[\"dropr\"]    \n",
    "        name = f\"latSize_{latSize}_lr_{lr}_dropr_{dropr}\"\n",
    "        print(name)\n",
    "    \n",
    "        ### Deleete all .pth but best model\n",
    "        for folder in os.listdir(PATH_results):\n",
    "            if folder.startswith(\"latSize_\"):\n",
    "                if folder.startswith(name):\n",
    "                    print(f\"Spared best model: {name}\")\n",
    "                else:\n",
    "                    try:\n",
    "                        os.remove(f\"{PATH_results}/{folder}/checkpoint/trainedModel.pth\")\n",
    "                    except FileNotFoundError:\n",
    "                        continue"
   ]
  },
  {
   "cell_type": "code",
   "execution_count": null,
   "id": "9a654542",
   "metadata": {},
   "outputs": [],
   "source": []
  }
 ],
 "metadata": {
  "kernelspec": {
   "display_name": "Python 3 (ipykernel)",
   "language": "python",
   "name": "python3"
  },
  "language_info": {
   "codemirror_mode": {
    "name": "ipython",
    "version": 3
   },
   "file_extension": ".py",
   "mimetype": "text/x-python",
   "name": "python",
   "nbconvert_exporter": "python",
   "pygments_lexer": "ipython3",
   "version": "3.9.16"
  }
 },
 "nbformat": 4,
 "nbformat_minor": 5
}
