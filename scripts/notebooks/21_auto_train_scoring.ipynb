{
 "cells": [
  {
   "cell_type": "markdown",
   "id": "02961d56",
   "metadata": {},
   "source": [
    "# Scoring for each latent dimension & select best one for fine-grained (manually)\n",
    "\n",
    "- rank and compare each combination\n",
    "- find \"best\" latentSize (with their respective best HP)"
   ]
  },
  {
   "cell_type": "code",
   "execution_count": 17,
   "id": "fcde1229",
   "metadata": {},
   "outputs": [],
   "source": [
    "import os\n",
    "import pandas as pd\n",
    "import numpy as np \n",
    "import torch\n",
    "import pickle\n",
    "from data.prepareData import prepareDataLoader_fromPkl\n",
    "import json\n",
    "import matplotlib.pyplot as plt\n",
    "import seaborn as sns\n",
    "\n",
    "from tensorflow.python.summary.summary_iterator import summary_iterator\n",
    "\n",
    "pd.set_option('display.max_columns', 0)"
   ]
  },
  {
   "cell_type": "code",
   "execution_count": 18,
   "id": "9a7ffb0c",
   "metadata": {},
   "outputs": [],
   "source": [
    "def getValLoss(name):\n",
    "    for file in os.listdir(f\"{name}\"):\n",
    "        if file.startswith(\"events\"):\n",
    "            val_loss = []\n",
    "            try:\n",
    "                for summary in summary_iterator(f\"{name}/{file}\"):\n",
    "                    if summary.summary.value:\n",
    "                        if summary.summary.value[0].tag == \"Val - Loss\":\n",
    "                            val_loss.append(summary.summary.value[0].simple_value)\n",
    "            except UnboundLocalError:\n",
    "                print(\"error during val loss scoring\")\n",
    "    return np.array(val_loss[-10:]).mean()\n",
    "\n",
    "def getPearsonR(orig, recon):\n",
    "    from scipy.stats import pearsonr\n",
    "    pearson = []\n",
    "    for i in range(recon.shape[1]):\n",
    "        pearson.append(pearsonr(orig.detach().numpy()[:,i], recon[:,i])[0])\n",
    "    return np.array(pearson).mean()\n",
    "\n",
    "def getScores(path, test_tensor, dict_scoring, save=True):\n",
    "\n",
    "    ### Load model\n",
    "    model = torch.load(f\"{path}/checkpoint/trainedModel.pth\", map_location=torch.device('cpu'))\n",
    "              \n",
    "    # Get recon and latent space (from test data)\n",
    "    with torch.no_grad():\n",
    "        recon = model(test_tensor).detach().numpy()\n",
    "        latSpace = model.generate_embedding(test_tensor)   \n",
    "\n",
    "    try: \n",
    "        dict_scoring[\"chr\"].append(CHR)\n",
    "        dict_scoring[\"latSize\"].append(path.split(\"/\")[-1].split(\"_\")[1])\n",
    "        dict_scoring[\"lr\"].append(path.split(\"/\")[-1].split(\"_\")[3])   \n",
    "        dict_scoring[\"dropr\"].append(path.split(\"/\")[-1].split(\"_\")[5])\n",
    "        dict_scoring[\"pearson_mean\"].append(getPearsonR(orig=test_tensor, recon=recon))\n",
    "        #name = f\"logs/{path}\"    ##### THIS IS THE WORNG PATH FOR THE FUTURE! remove logs    \n",
    "        dict_scoring[\"loss_mean\"].append(getValLoss(path))\n",
    "    except RuntimeWarning: \n",
    "        print(\"error\")\n",
    "        \n",
    "    return dict_scoring\n",
    "\n",
    "def getRanking(dict_scores):\n",
    "    df = pd.DataFrame.from_dict(dict_scoring, orient=\"index\").T\n",
    "\n",
    "    ## Rank Pearson reconstruction accuracy - higher values better; 1 is best!\n",
    "    df = df.sort_values(\"pearson_mean\", ascending=False)\n",
    "    df[\"pearson_mean\"].replace(np.nan,0, inplace=True)\n",
    "    df[\"idx_pearson\"] = range(1,len(df)+1)\n",
    "\n",
    "    ## Rank val loss - lower values better; 1 is best!\n",
    "    df = df.sort_values(\"loss_mean\", ascending=True)\n",
    "    df[\"idx_loss\"] = range(1,len(df)+1)\n",
    "\n",
    "    ## Calcualte mean() ranking --> the lower the better (balance between loss and recon acc)\n",
    "    df[\"idx_mean\"] = df[[\"idx_pearson\", \"idx_loss\"]].mean(axis=1)\n",
    "    df = df.sort_values(\"idx_mean\", ascending=True)\n",
    "    return df"
   ]
  },
  {
   "cell_type": "code",
   "execution_count": 19,
   "id": "1489a96d",
   "metadata": {},
   "outputs": [],
   "source": [
    "PATH_data = \"/data/scratch/skatz/PROJECTS/methylnet/1_healthyVAE/data/GSE87571/train_val_test_sets/\""
   ]
  },
  {
   "cell_type": "markdown",
   "id": "b2eb2263",
   "metadata": {},
   "source": [
    "## Get scores for each latFeature"
   ]
  },
  {
   "cell_type": "code",
   "execution_count": 70,
   "id": "4485821f",
   "metadata": {},
   "outputs": [
    {
     "name": "stdout",
     "output_type": "stream",
     "text": [
      "[160, 80, 40, 20, 10, 5]\n",
      "160\n",
      "80\n",
      "40\n",
      "20\n",
      "10\n",
      "5\n"
     ]
    }
   ],
   "source": [
    "for CHR in [\"chr22\"]:#[\"chr20\"]:\n",
    "    ### Load data\n",
    "    with open(os.path.join(PATH_data, f\"{CHR}_test_methyl_array.pkl\"), \"rb\") as f: test_dataset = pickle.load(f) #\n",
    "    test_tensor = torch.tensor(test_dataset[\"beta\"].values, dtype=torch.float32)\n",
    "    \n",
    "    ### Get runs for each latSize individually\n",
    "    PATH_results = f\"logs/optimisation/{CHR}/coarse\"\n",
    "    with open(f\"{PATH_results}/param_grid_coarse.json\", \"r\") as f: LATSIZES = json.load(f)[\"latentSize_coarse\"]\n",
    "    print(LATSIZES)\n",
    "    \n",
    "    for LATSIZE in LATSIZES:\n",
    "        print(LATSIZE)\n",
    "        ### Initialise results dict\n",
    "        dict_scoring = dict()\n",
    "        for key in [\"chr\", \"latSize\", \"lr\", \"dropr\", \"pearson_mean\", \"loss_mean\"]:\n",
    "            dict_scoring[key] = []\n",
    "        ### Parse over fodler to get runs\n",
    "        try: \n",
    "            for folder in os.listdir(PATH_results):\n",
    "                if folder.startswith(f\"latSize_{LATSIZE}\"):\n",
    "                    ### Get scores in dict\n",
    "                    path = f\"{PATH_results}/{folder}\"\n",
    "                    dict_final_scores = getScores(path, \n",
    "                                            test_tensor, \n",
    "                                            dict_scoring)\n",
    "            ### Save scoring dict for later use\n",
    "            with open(f\"{PATH_results}/scoring_latSize_{LATSIZE}.json\", \"w\") as f: json.dump(dict_final_scores, f, indent=4)\n",
    "        except FileNotFoundError:\n",
    "            print(f\"\\t{folder}\\t: FileNotFoundError (not finished)\")\n",
    "        except UnboundLocalError:\n",
    "            print(f\"\\t{folder}\\t: UnboundLocalError\")"
   ]
  },
  {
   "cell_type": "code",
   "execution_count": 58,
   "id": "0d0d9b2c",
   "metadata": {},
   "outputs": [],
   "source": [
    "#dict_scores"
   ]
  },
  {
   "cell_type": "markdown",
   "id": "ae85af16",
   "metadata": {},
   "source": [
    "# Get ranking for each latFeature"
   ]
  },
  {
   "cell_type": "code",
   "execution_count": 73,
   "id": "d91f784c",
   "metadata": {},
   "outputs": [],
   "source": [
    "for CHR in [\"chr22\"]: #[\"chr20\"]:   \n",
    "    df_summary = pd.DataFrame()\n",
    "    PATH_results = f\"logs/optimisation/{CHR}/coarse\"\n",
    "    with open(f\"{PATH_results}/param_grid_coarse.json\", \"r\") as f: LATSIZES = json.load(f)[\"latentSize_coarse\"]\n",
    "    for LATSIZE in LATSIZES:\n",
    "        ### Lod scoring for each latSize\n",
    "        try:\n",
    "            with open(f\"{PATH_results}/scoring_latSize_{LATSIZE}.json\", \"r\") as f: dict_scoring = json.load(f)\n",
    "        except FileNotFoundError:\n",
    "            print(f\"file missing: scoring_latSize_{LATSIZE}.json - SKIP\")\n",
    "        ### Do the ranking over all runs with one latent size\n",
    "        df_ranking = getRanking(dict_scoring)\n",
    "        df_summary = pd.concat([df_summary, df_ranking], ignore_index=True)\n",
    "    df_summary.to_csv(f\"{PATH_results}/scoring+ranking.csv\", index=False)"
   ]
  },
  {
   "cell_type": "markdown",
   "id": "a66bea7a",
   "metadata": {},
   "source": [
    "# Plot & manually select best latSize"
   ]
  },
  {
   "cell_type": "code",
   "execution_count": 74,
   "id": "2923ce24",
   "metadata": {},
   "outputs": [
    {
     "name": "stdout",
     "output_type": "stream",
     "text": [
      "[160  80  40  20  10   5]\n"
     ]
    },
    {
     "data": {
      "image/png": "[encoded data removed]",
      "text/plain": [
       "<Figure size 720x576 with 2 Axes>"
      ]
     },
     "metadata": {},
     "output_type": "display_data"
    }
   ],
   "source": [
    "CHR = \"chr22\"\n",
    "PATH_results = f\"logs/optimisation/{CHR}/coarse\"\n",
    "df_summary = pd.read_csv(f\"{PATH_results}/scoring+ranking.csv\")\n",
    "LATSIZES = df_summary[\"latSize\"].unique()\n",
    "\n",
    "latSizes_loss = [df_summary[df_summary[\"latSize\"] == LATSIZE].iloc[0,5] for LATSIZE in LATSIZES]\n",
    "latSizes_pearson = [df_summary[df_summary[\"latSize\"] == LATSIZE].iloc[0,4] for LATSIZE in LATSIZES]\n",
    "\n",
    "print(LATSIZES)\n",
    "\n",
    "fig, ax = plt.subplots(figsize=(10,8))\n",
    "fig.patch.set_alpha(1)\n",
    "ax.plot(LATSIZES, latSizes_loss, '--o', label=\"loss\")\n",
    "ax.set_ylabel(\"Val Loss\")\n",
    "ax2 = ax.twinx()\n",
    "ax2.plot(LATSIZES, latSizes_pearson, \"--o\",c=\"orange\", label=\"reconAcc\")\n",
    "ax2.set_ylabel(\"Pearson correlation\")\n",
    "ax.set_xlabel(\"Latent size\")\n",
    "ax.set_title(f\"{CHR} - HP-optimised model for each latSize\")\n",
    "ax2.legend()\n",
    "ax.legend()\n",
    "fig.savefig(f\"{PATH_results}/latSizeComparison.png\")"
   ]
  },
  {
   "cell_type": "markdown",
   "id": "34a3011a",
   "metadata": {},
   "source": [
    "## Manual:"
   ]
  },
  {
   "cell_type": "code",
   "execution_count": 75,
   "id": "ada4fd53",
   "metadata": {},
   "outputs": [
    {
     "name": "stdout",
     "output_type": "stream",
     "text": [
      "chr22\n",
      "\n",
      "chr                  chr22\n",
      "latSize                 80\n",
      "lr                  0.0005\n",
      "dropr                  0.3\n",
      "pearson_mean      0.572536\n",
      "loss_mean       590.569916\n",
      "idx_pearson              1\n",
      "idx_loss                 1\n",
      "idx_mean               1.0\n",
      "Name: 12, dtype: object\n",
      "\n",
      "\n",
      "Saved!\n"
     ]
    }
   ],
   "source": [
    "### Determine best model \n",
    "print(CHR+\"\\n\")\n",
    "BEST_LAT = 80\n",
    "df_best = df_summary[df_summary[\"latSize\"] == BEST_LAT].iloc[0,]\n",
    "print(df_best)\n",
    "\n",
    "### save in file \n",
    "dict_bestLat = {}\n",
    "dict_bestLat[\"chr\"] = df_best[\"chr\"]\n",
    "dict_bestLat[\"latSize\"] = str(df_best[\"latSize\"])\n",
    "dict_bestLat[\"lr\"] = df_best[\"lr\"]\n",
    "dict_bestLat[\"dropr\"] = df_best[\"dropr\"]\n",
    "\n",
    "PATH_results = f\"logs/optimisation/{CHR}/coarse\"\n",
    "with open(f\"{PATH_results}/best_model_coarseOptimization.json\", \"w\") as f: json.dump(dict_bestLat, f, indent=4)\n",
    "print(\"\\n\\nSaved!\")"
   ]
  },
  {
   "cell_type": "markdown",
   "id": "dd5c91ff",
   "metadata": {},
   "source": [
    "## Remove all .pth files of coarse grained search\n",
    "to save some space on the cluster"
   ]
  },
  {
   "cell_type": "code",
   "execution_count": null,
   "id": "ef2ea972",
   "metadata": {},
   "outputs": [],
   "source": []
  },
  {
   "cell_type": "code",
   "execution_count": null,
   "id": "a2113efd",
   "metadata": {},
   "outputs": [],
   "source": []
  },
  {
   "cell_type": "code",
   "execution_count": null,
   "id": "0e9b4543",
   "metadata": {},
   "outputs": [],
   "source": []
  },
  {
   "cell_type": "code",
   "execution_count": null,
   "id": "a57af135",
   "metadata": {},
   "outputs": [],
   "source": []
  },
  {
   "cell_type": "code",
   "execution_count": null,
   "id": "577e9bb7",
   "metadata": {},
   "outputs": [],
   "source": []
  },
  {
   "cell_type": "markdown",
   "id": "9e292dd6",
   "metadata": {},
   "source": [
    "# Sanity check: Chr22 now & before"
   ]
  },
  {
   "cell_type": "code",
   "execution_count": null,
   "id": "1c16da6a",
   "metadata": {},
   "outputs": [],
   "source": [
    "### compare chr22 with old chr22!! --> wiht old HP same results?"
   ]
  },
  {
   "cell_type": "code",
   "execution_count": 40,
   "id": "a2478699",
   "metadata": {},
   "outputs": [],
   "source": [
    "for CHR in [\"chr22\"]: #[\"chr20\"]:   \n",
    "    df_summary = pd.DataFrame()\n",
    "    PATH_results = f\"logs/optimisation/{CHR}/coarse\"\n",
    "    with open(f\"{PATH_results}/param_grid_coarse.json\", \"r\") as f: LATSIZES = json.load(f)[\"latentSize_coarse\"]\n",
    "    for LATSIZE in LATSIZES:\n",
    "        ### Lod scoring for each latSize\n",
    "        with open(f\"{PATH_results}/scoring_latSize_{LATSIZE}.json\", \"r\") as f: dict_scoring = json.load(f)\n",
    "        ### Do the ranking over all runs with one latent size\n",
    "        df_ranking = getRanking(dict_scoring)\n",
    "        df_summary = pd.concat([df_summary, df_ranking], ignore_index=True)\n",
    "    df_summary.to_csv(f\"{PATH_results}/scoring+ranking.csv\", index=False)\n"
   ]
  },
  {
   "cell_type": "markdown",
   "id": "f190cbd6",
   "metadata": {},
   "source": [
    "|                    | layers   | lr     | dropr | pearson_mean | loss_mean  |   |\n",
    "|--------------------|----------|--------|-------|--------------|------------|---|\n",
    "| HP_opt: latSize=20 | 1570,310 | 0.0005 | 0.3   | 0.540938     | 647.171844 |   |\n",
    "| old: latSize=25    | 2000,500 | 0.0001 | 0.3   | 0.532        | 621.334314 |   |\n",
    "| HP_opt: latSize=20 | 1570,310 | 0.0001 | 0.3   | 0.516324     | 629.472815 |   |"
   ]
  },
  {
   "cell_type": "code",
   "execution_count": 38,
   "id": "d042895f",
   "metadata": {},
   "outputs": [
    {
     "name": "stdout",
     "output_type": "stream",
     "text": [
      "[160, 80, 40, 20, 10, 5]\n"
     ]
    },
    {
     "data": {
      "text/html": [
       "<div>\n",
       "<style scoped>\n",
       "    .dataframe tbody tr th:only-of-type {\n",
       "        vertical-align: middle;\n",
       "    }\n",
       "\n",
       "    .dataframe tbody tr th {\n",
       "        vertical-align: top;\n",
       "    }\n",
       "\n",
       "    .dataframe thead th {\n",
       "        text-align: right;\n",
       "    }\n",
       "</style>\n",
       "<table border=\"1\" class=\"dataframe\">\n",
       "  <thead>\n",
       "    <tr style=\"text-align: right;\">\n",
       "      <th></th>\n",
       "      <th>chr</th>\n",
       "      <th>latSize</th>\n",
       "      <th>lr</th>\n",
       "      <th>dropr</th>\n",
       "      <th>pearson_mean</th>\n",
       "      <th>loss_mean</th>\n",
       "      <th>idx_pearson</th>\n",
       "      <th>idx_loss</th>\n",
       "      <th>idx_mean</th>\n",
       "    </tr>\n",
       "  </thead>\n",
       "  <tbody>\n",
       "    <tr>\n",
       "      <th>12</th>\n",
       "      <td>chr22</td>\n",
       "      <td>80</td>\n",
       "      <td>0.0005</td>\n",
       "      <td>0.3</td>\n",
       "      <td>0.572536</td>\n",
       "      <td>590.569916</td>\n",
       "      <td>1</td>\n",
       "      <td>1</td>\n",
       "      <td>1.0</td>\n",
       "    </tr>\n",
       "    <tr>\n",
       "      <th>13</th>\n",
       "      <td>chr22</td>\n",
       "      <td>80</td>\n",
       "      <td>0.0005</td>\n",
       "      <td>0.1</td>\n",
       "      <td>0.56922</td>\n",
       "      <td>621.987152</td>\n",
       "      <td>2</td>\n",
       "      <td>3</td>\n",
       "      <td>2.5</td>\n",
       "    </tr>\n",
       "    <tr>\n",
       "      <th>14</th>\n",
       "      <td>chr22</td>\n",
       "      <td>80</td>\n",
       "      <td>0.0005</td>\n",
       "      <td>0.5</td>\n",
       "      <td>0.560358</td>\n",
       "      <td>610.29422</td>\n",
       "      <td>5</td>\n",
       "      <td>2</td>\n",
       "      <td>3.5</td>\n",
       "    </tr>\n",
       "    <tr>\n",
       "      <th>15</th>\n",
       "      <td>chr22</td>\n",
       "      <td>80</td>\n",
       "      <td>0.001</td>\n",
       "      <td>0.1</td>\n",
       "      <td>0.560525</td>\n",
       "      <td>667.110992</td>\n",
       "      <td>4</td>\n",
       "      <td>6</td>\n",
       "      <td>5.0</td>\n",
       "    </tr>\n",
       "    <tr>\n",
       "      <th>16</th>\n",
       "      <td>chr22</td>\n",
       "      <td>80</td>\n",
       "      <td>0.001</td>\n",
       "      <td>0.5</td>\n",
       "      <td>0.555665</td>\n",
       "      <td>646.614349</td>\n",
       "      <td>6</td>\n",
       "      <td>5</td>\n",
       "      <td>5.5</td>\n",
       "    </tr>\n",
       "    <tr>\n",
       "      <th>17</th>\n",
       "      <td>chr22</td>\n",
       "      <td>80</td>\n",
       "      <td>0.001</td>\n",
       "      <td>0.3</td>\n",
       "      <td>0.560709</td>\n",
       "      <td>709.030536</td>\n",
       "      <td>3</td>\n",
       "      <td>9</td>\n",
       "      <td>6.0</td>\n",
       "    </tr>\n",
       "    <tr>\n",
       "      <th>18</th>\n",
       "      <td>chr22</td>\n",
       "      <td>80</td>\n",
       "      <td>0.0001</td>\n",
       "      <td>0.1</td>\n",
       "      <td>0.510484</td>\n",
       "      <td>642.674866</td>\n",
       "      <td>9</td>\n",
       "      <td>4</td>\n",
       "      <td>6.5</td>\n",
       "    </tr>\n",
       "    <tr>\n",
       "      <th>19</th>\n",
       "      <td>chr22</td>\n",
       "      <td>80</td>\n",
       "      <td>0.005</td>\n",
       "      <td>0.3</td>\n",
       "      <td>0.520312</td>\n",
       "      <td>691.689319</td>\n",
       "      <td>8</td>\n",
       "      <td>8</td>\n",
       "      <td>8.0</td>\n",
       "    </tr>\n",
       "    <tr>\n",
       "      <th>20</th>\n",
       "      <td>chr22</td>\n",
       "      <td>80</td>\n",
       "      <td>0.005</td>\n",
       "      <td>0.1</td>\n",
       "      <td>0.544053</td>\n",
       "      <td>769.482849</td>\n",
       "      <td>7</td>\n",
       "      <td>10</td>\n",
       "      <td>8.5</td>\n",
       "    </tr>\n",
       "    <tr>\n",
       "      <th>21</th>\n",
       "      <td>chr22</td>\n",
       "      <td>80</td>\n",
       "      <td>0.005</td>\n",
       "      <td>0.5</td>\n",
       "      <td>0.498032</td>\n",
       "      <td>676.088794</td>\n",
       "      <td>11</td>\n",
       "      <td>7</td>\n",
       "      <td>9.0</td>\n",
       "    </tr>\n",
       "    <tr>\n",
       "      <th>22</th>\n",
       "      <td>chr22</td>\n",
       "      <td>80</td>\n",
       "      <td>0.0001</td>\n",
       "      <td>0.3</td>\n",
       "      <td>0.499751</td>\n",
       "      <td>979.41377</td>\n",
       "      <td>10</td>\n",
       "      <td>11</td>\n",
       "      <td>10.5</td>\n",
       "    </tr>\n",
       "    <tr>\n",
       "      <th>23</th>\n",
       "      <td>chr22</td>\n",
       "      <td>80</td>\n",
       "      <td>0.0001</td>\n",
       "      <td>0.5</td>\n",
       "      <td>0.434927</td>\n",
       "      <td>1019.499805</td>\n",
       "      <td>12</td>\n",
       "      <td>12</td>\n",
       "      <td>12.0</td>\n",
       "    </tr>\n",
       "  </tbody>\n",
       "</table>\n",
       "</div>"
      ],
      "text/plain": [
       "      chr latSize      lr dropr  ...    loss_mean idx_pearson  idx_loss  idx_mean\n",
       "12  chr22      80  0.0005   0.3  ...   590.569916           1         1       1.0\n",
       "13  chr22      80  0.0005   0.1  ...   621.987152           2         3       2.5\n",
       "14  chr22      80  0.0005   0.5  ...    610.29422           5         2       3.5\n",
       "15  chr22      80   0.001   0.1  ...   667.110992           4         6       5.0\n",
       "16  chr22      80   0.001   0.5  ...   646.614349           6         5       5.5\n",
       "17  chr22      80   0.001   0.3  ...   709.030536           3         9       6.0\n",
       "18  chr22      80  0.0001   0.1  ...   642.674866           9         4       6.5\n",
       "19  chr22      80   0.005   0.3  ...   691.689319           8         8       8.0\n",
       "20  chr22      80   0.005   0.1  ...   769.482849           7        10       8.5\n",
       "21  chr22      80   0.005   0.5  ...   676.088794          11         7       9.0\n",
       "22  chr22      80  0.0001   0.3  ...    979.41377          10        11      10.5\n",
       "23  chr22      80  0.0001   0.5  ...  1019.499805          12        12      12.0\n",
       "\n",
       "[12 rows x 9 columns]"
      ]
     },
     "execution_count": 38,
     "metadata": {},
     "output_type": "execute_result"
    }
   ],
   "source": [
    "print(LATSIZES)\n",
    "df_summary[df_summary[\"latSize\"] == \"80\"]   ### best \t0.0005\t0.3\t0.540938\t647.171844"
   ]
  },
  {
   "cell_type": "code",
   "execution_count": null,
   "id": "5a0bdaad",
   "metadata": {},
   "outputs": [],
   "source": []
  }
 ],
 "metadata": {
  "kernelspec": {
   "display_name": "Python 3 (ipykernel)",
   "language": "python",
   "name": "python3"
  },
  "language_info": {
   "codemirror_mode": {
    "name": "ipython",
    "version": 3
   },
   "file_extension": ".py",
   "mimetype": "text/x-python",
   "name": "python",
   "nbconvert_exporter": "python",
   "pygments_lexer": "ipython3",
   "version": "3.9.12"
  }
 },
 "nbformat": 4,
 "nbformat_minor": 5
}
