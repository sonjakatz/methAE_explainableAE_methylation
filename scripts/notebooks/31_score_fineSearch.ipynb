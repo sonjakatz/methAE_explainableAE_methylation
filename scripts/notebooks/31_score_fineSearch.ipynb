{
 "cells": [
  {
   "cell_type": "markdown",
   "id": "02961d56",
   "metadata": {},
   "source": [
    "# Scoring for each latent dimension & select best one for fine-grained (manually)\n",
    "\n",
    "- rank and compare each combination\n",
    "- find \"best\" latentSize (with their respective best HP)"
   ]
  },
  {
   "cell_type": "code",
   "execution_count": 1,
   "id": "fcde1229",
   "metadata": {},
   "outputs": [
    {
     "name": "stderr",
     "output_type": "stream",
     "text": [
      "2023-01-13 09:41:24.295428: W tensorflow/stream_executor/platform/default/dso_loader.cc:64] Could not load dynamic library 'libcudart.so.11.0'; dlerror: libcudart.so.11.0: cannot open shared object file: No such file or directory; LD_LIBRARY_PATH: /opt/ohpc/pub/easybuild/software/Python/3.9.5-GCCcore-10.3.0/lib:/opt/ohpc/pub/easybuild/software/OpenSSL/1.1/lib:/opt/ohpc/pub/easybuild/software/libffi/3.3-GCCcore-10.3.0/lib64:/opt/ohpc/pub/easybuild/software/libffi/3.3-GCCcore-10.3.0/lib:/opt/ohpc/pub/easybuild/software/GMP/6.2.1-GCCcore-10.3.0/lib:/opt/ohpc/pub/easybuild/software/XZ/5.2.5-GCCcore-10.3.0/lib:/opt/ohpc/pub/easybuild/software/SQLite/3.35.4-GCCcore-10.3.0/lib:/opt/ohpc/pub/easybuild/software/Tcl/8.6.11-GCCcore-10.3.0/lib:/opt/ohpc/pub/easybuild/software/libreadline/8.1-GCCcore-10.3.0/lib:/opt/ohpc/pub/easybuild/software/ncurses/6.2-GCCcore-10.3.0/lib:/opt/ohpc/pub/easybuild/software/bzip2/1.0.8-GCCcore-10.3.0/lib:/opt/ohpc/pub/easybuild/software/binutils/2.36.1-GCCcore-10.3.0/lib:/opt/ohpc/pub/easybuild/software/zlib/1.2.11-GCCcore-10.3.0/lib:/opt/ohpc/pub/easybuild/software/GCCcore/10.3.0/lib64:/opt/ohpc/pub/easybuild/software/GCCcore/10.3.0/lib\n",
      "2023-01-13 09:41:24.295497: I tensorflow/stream_executor/cuda/cudart_stub.cc:29] Ignore above cudart dlerror if you do not have a GPU set up on your machine.\n"
     ]
    }
   ],
   "source": [
    "import os\n",
    "import pandas as pd\n",
    "import numpy as np \n",
    "import torch\n",
    "import pickle\n",
    "from data.prepareData import prepareDataLoader_fromPkl\n",
    "import json\n",
    "import matplotlib.pyplot as plt\n",
    "import seaborn as sns\n",
    "\n",
    "from tensorflow.python.summary.summary_iterator import summary_iterator\n",
    "\n",
    "pd.set_option('display.max_columns', 0)"
   ]
  },
  {
   "cell_type": "code",
   "execution_count": 2,
   "id": "9a7ffb0c",
   "metadata": {},
   "outputs": [],
   "source": [
    "def getValLoss(name):\n",
    "    for file in os.listdir(f\"{name}\"):\n",
    "        if file.startswith(\"events\"):\n",
    "            val_loss = []\n",
    "            try:\n",
    "                for summary in summary_iterator(f\"{name}/{file}\"):\n",
    "                    if summary.summary.value:\n",
    "                        if summary.summary.value[0].tag == \"Val - Loss\":\n",
    "                            val_loss.append(summary.summary.value[0].simple_value)\n",
    "            except UnboundLocalError:\n",
    "                print(\"error during val loss scoring\")\n",
    "    return np.array(val_loss[-10:]).mean()\n",
    "\n",
    "def getPearsonR(orig, recon):\n",
    "    from scipy.stats import pearsonr\n",
    "    pearson = []\n",
    "    for i in range(recon.shape[1]):\n",
    "        pearson.append(pearsonr(orig.detach().numpy()[:,i], recon[:,i])[0])\n",
    "    return np.array(pearson).mean()\n",
    "\n",
    "def getScores(path, test_tensor, dict_scoring, save=True):\n",
    "\n",
    "    ### Load model\n",
    "    model = torch.load(f\"{path}/checkpoint/trainedModel.pth\", map_location=torch.device('cpu'))\n",
    "              \n",
    "    # Get recon and latent space (from test data)\n",
    "    with torch.no_grad():\n",
    "        recon = model(test_tensor).detach().numpy()\n",
    "        latSpace = model.generate_embedding(test_tensor)   \n",
    "\n",
    "    try: \n",
    "        dict_scoring[\"chr\"].append(CHR)\n",
    "        dict_scoring[\"latSize\"].append(path.split(\"/\")[-1].split(\"_\")[1])\n",
    "        dict_scoring[\"lr\"].append(path.split(\"/\")[-1].split(\"_\")[3])   \n",
    "        dict_scoring[\"dropr\"].append(path.split(\"/\")[-1].split(\"_\")[5])\n",
    "        dict_scoring[\"pearson_mean\"].append(getPearsonR(orig=test_tensor, recon=recon))\n",
    "        #name = f\"logs/{path}\"    ##### THIS IS THE WORNG PATH FOR THE FUTURE! remove logs    \n",
    "        dict_scoring[\"loss_mean\"].append(getValLoss(path))\n",
    "    except RuntimeWarning: \n",
    "        print(\"error\")\n",
    "        \n",
    "    return dict_scoring\n",
    "\n",
    "def getRanking(dict_scores):\n",
    "    df = pd.DataFrame.from_dict(dict_scoring, orient=\"index\").T\n",
    "\n",
    "    ## Rank Pearson reconstruction accuracy - higher values better; 1 is best!\n",
    "    df = df.sort_values(\"pearson_mean\", ascending=False)\n",
    "    df[\"pearson_mean\"].replace(np.nan,0, inplace=True)\n",
    "    df[\"idx_pearson\"] = range(1,len(df)+1)\n",
    "\n",
    "    ## Rank val loss - lower values better; 1 is best!\n",
    "    df = df.sort_values(\"loss_mean\", ascending=True)\n",
    "    df[\"idx_loss\"] = range(1,len(df)+1)\n",
    "\n",
    "    ## Calcualte mean() ranking --> the lower the better (balance between loss and recon acc)\n",
    "    df[\"idx_mean\"] = df[[\"idx_pearson\", \"idx_loss\"]].mean(axis=1)\n",
    "    df = df.sort_values(\"idx_mean\", ascending=True)\n",
    "    return df"
   ]
  },
  {
   "cell_type": "code",
   "execution_count": 3,
   "id": "1489a96d",
   "metadata": {},
   "outputs": [],
   "source": [
    "PATH_data = \"/data/scratch/skatz/PROJECTS/methylnet/1_healthyVAE/data/GSE87571/train_val_test_sets/\""
   ]
  },
  {
   "cell_type": "markdown",
   "id": "b2eb2263",
   "metadata": {},
   "source": [
    "## Get scores for each latFeature"
   ]
  },
  {
   "cell_type": "code",
   "execution_count": 4,
   "id": "4485821f",
   "metadata": {
    "scrolled": false
   },
   "outputs": [
    {
     "name": "stdout",
     "output_type": "stream",
     "text": [
      "chr6\n",
      "[52, 65, 78, 90, 110, 130, 150]\n",
      "52\n",
      "WARNING:tensorflow:From /trinity/home/skatz/.local/lib/python3.9/site-packages/tensorflow/python/summary/summary_iterator.py:27: tf_record_iterator (from tensorflow.python.lib.io.tf_record) is deprecated and will be removed in a future version.\n",
      "Instructions for updating:\n",
      "Use eager execution and: \n",
      "`tf.data.TFRecordDataset(path)`\n",
      "65\n",
      "78\n",
      "90\n",
      "110\n",
      "130\n",
      "150\n",
      "chr8\n",
      "[62, 75, 88, 100, 125, 150, 175]\n",
      "62\n",
      "75\n",
      "88\n",
      "100\n",
      "125\n",
      "150\n",
      "175\n"
     ]
    }
   ],
   "source": [
    "for CHR in [\"chr6\", \"chr8\"]:#[f\"chr{i}\" for i in range(11,13)]:#range(1,17)\n",
    "    print(CHR)\n",
    "    ### Load data\n",
    "    with open(os.path.join(PATH_data, f\"{CHR}_test_methyl_array.pkl\"), \"rb\") as f: test_dataset = pickle.load(f) #\n",
    "    test_tensor = torch.tensor(test_dataset[\"beta\"].values, dtype=torch.float32)\n",
    "    \n",
    "    ### Get runs for each latSize individually\n",
    "    PATH_results = f\"logs/optimisation/{CHR}/fine\"\n",
    "    with open(f\"{PATH_results}/param_grid_fine.json\", \"r\") as f: LATSIZES = json.load(f)[\"latentSize_fine\"]\n",
    "    print(LATSIZES)\n",
    "    \n",
    "    for LATSIZE in LATSIZES:\n",
    "        print(LATSIZE)\n",
    "        ### Initialise results dict\n",
    "        dict_scoring = dict()\n",
    "        for key in [\"chr\", \"latSize\", \"lr\", \"dropr\", \"pearson_mean\", \"loss_mean\"]:\n",
    "            dict_scoring[key] = []\n",
    "        ### Parse over fodler to get runs\n",
    "        try: \n",
    "            for folder in os.listdir(PATH_results):\n",
    "                if folder.startswith(f\"latSize_{LATSIZE}\"):\n",
    "                    ### Get scores in dict\n",
    "                    path = f\"{PATH_results}/{folder}\"\n",
    "                    dict_final_scores = getScores(path, \n",
    "                                            test_tensor, \n",
    "                                            dict_scoring)\n",
    "            ### Save scoring dict for later use\n",
    "            with open(f\"{PATH_results}/scoring_latSize_{LATSIZE}.json\", \"w\") as f: json.dump(dict_final_scores, f, indent=4)\n",
    "        except FileNotFoundError:\n",
    "            print(f\"\\t{folder}\\t: FileNotFoundError (not finished)\")\n",
    "        except UnboundLocalError:\n",
    "            print(f\"\\t{folder}\\t: UnboundLocalError\")"
   ]
  },
  {
   "cell_type": "markdown",
   "id": "ae85af16",
   "metadata": {},
   "source": [
    "# Get ranking for each latFeature"
   ]
  },
  {
   "cell_type": "code",
   "execution_count": 6,
   "id": "d91f784c",
   "metadata": {},
   "outputs": [
    {
     "name": "stdout",
     "output_type": "stream",
     "text": [
      "chr6\n",
      "chr8\n"
     ]
    }
   ],
   "source": [
    "for CHR in [\"chr6\", \"chr8\"]:#[f\"chr{i}\" for i in  range(11,13)]:#[f\"chr{i}\" for i in  [12,11,8,6,5,3,2,1]]: #[\"chr20\"]:   \n",
    "    print(CHR)\n",
    "    df_summary = pd.DataFrame()\n",
    "    PATH_results = f\"logs/optimisation/{CHR}/fine\"\n",
    "    with open(f\"{PATH_results}/param_grid_fine.json\", \"r\") as f: LATSIZES = json.load(f)[\"latentSize_fine\"]\n",
    "    for LATSIZE in LATSIZES:\n",
    "        ### Lod scoring for each latSize\n",
    "        try:\n",
    "            with open(f\"{PATH_results}/scoring_latSize_{LATSIZE}.json\", \"r\") as f: dict_scoring = json.load(f)\n",
    "        except FileNotFoundError:\n",
    "            print(f\"file missing: scoring_latSize_{LATSIZE}.json - SKIP\")\n",
    "        ### Do the ranking over all runs with one latent size\n",
    "        df_ranking = getRanking(dict_scoring)\n",
    "        df_summary = pd.concat([df_summary, df_ranking], ignore_index=True)\n",
    "    df_summary.to_csv(f\"{PATH_results}/scoring+ranking.csv\", index=False)"
   ]
  },
  {
   "cell_type": "markdown",
   "id": "8890b1bf",
   "metadata": {},
   "source": [
    "# Plot & manually select best latSize"
   ]
  },
  {
   "cell_type": "code",
   "execution_count": 9,
   "id": "2923ce24",
   "metadata": {},
   "outputs": [
    {
     "name": "stdout",
     "output_type": "stream",
     "text": [
      "[ 62  75  88 100 125 150 175]\n"
     ]
    },
    {
     "data": {
      "image/png": "[encoded data removed]",
      "text/plain": [
       "<Figure size 720x576 with 2 Axes>"
      ]
     },
     "metadata": {},
     "output_type": "display_data"
    }
   ],
   "source": [
    "CHR = \"chr8\"\n",
    "PATH_results = f\"logs/optimisation/{CHR}/fine\"\n",
    "df_summary = pd.read_csv(f\"{PATH_results}/scoring+ranking.csv\")\n",
    "LATSIZES = np.sort(df_summary[\"latSize\"].unique())\n",
    "\n",
    "latSizes_loss = [df_summary[df_summary[\"latSize\"] == LATSIZE].iloc[0,5] for LATSIZE in LATSIZES]\n",
    "latSizes_pearson = [df_summary[df_summary[\"latSize\"] == LATSIZE].iloc[0,4] for LATSIZE in LATSIZES]\n",
    "\n",
    "print(LATSIZES)\n",
    "\n",
    "fig, ax = plt.subplots(figsize=(10,8))\n",
    "fig.patch.set_alpha(1)\n",
    "ax.plot(LATSIZES, latSizes_loss, '--o', label=\"loss\")\n",
    "ax.set_ylabel(\"Val Loss\")\n",
    "ax2 = ax.twinx()\n",
    "ax2.plot(LATSIZES, latSizes_pearson, \"--o\",c=\"orange\", label=\"reconAcc\")\n",
    "ax2.set_ylabel(\"Pearson correlation\")\n",
    "ax.set_xlabel(\"Latent size\")\n",
    "ax.set_title(f\"{CHR} - HP-optimised model for each latSize\")\n",
    "ax2.legend()\n",
    "ax.legend()\n",
    "fig.savefig(f\"{PATH_results}/latSizeComparison.png\")"
   ]
  },
  {
   "cell_type": "markdown",
   "id": "6303ff20",
   "metadata": {},
   "source": [
    "## Manual selection and save:"
   ]
  },
  {
   "cell_type": "code",
   "execution_count": 10,
   "id": "a17b4d42",
   "metadata": {},
   "outputs": [
    {
     "name": "stdout",
     "output_type": "stream",
     "text": [
      "chr8\n",
      "\n",
      "chr                    chr8\n",
      "latSize                  88\n",
      "lr                   0.0005\n",
      "dropr                   0.3\n",
      "pearson_mean       0.540232\n",
      "loss_mean       2036.153687\n",
      "idx_pearson               2\n",
      "idx_loss                  1\n",
      "idx_mean                1.5\n",
      "Name: 8, dtype: object\n",
      "\n",
      "\n",
      "Saved!\n"
     ]
    }
   ],
   "source": [
    "### Determine best model \n",
    "print(CHR+\"\\n\")\n",
    "BEST_LAT = 88 \n",
    "df_best = df_summary[df_summary[\"latSize\"] == BEST_LAT].iloc[0,]\n",
    "print(df_best)\n",
    "\n",
    "### save in file \n",
    "dict_bestLat = {}\n",
    "dict_bestLat[\"chr\"] = df_best[\"chr\"]\n",
    "dict_bestLat[\"latSize\"] = str(df_best[\"latSize\"])\n",
    "dict_bestLat[\"lr\"] = df_best[\"lr\"]\n",
    "dict_bestLat[\"dropr\"] = df_best[\"dropr\"]\n",
    "\n",
    "PATH_results = f\"logs/optimisation/{CHR}/fine\"\n",
    "with open(f\"{PATH_results}/best_model_fineOptimization.json\", \"w\") as f: json.dump(dict_bestLat, f, indent=4)\n",
    "print(\"\\n\\nSaved!\")"
   ]
  },
  {
   "cell_type": "markdown",
   "id": "c5a489d7",
   "metadata": {},
   "source": [
    "## Remove all (but best model) .pth files of fine grained search\n",
    "to save some space on the cluster"
   ]
  },
  {
   "cell_type": "code",
   "execution_count": 28,
   "id": "5eff7fec",
   "metadata": {},
   "outputs": [
    {
     "name": "stdout",
     "output_type": "stream",
     "text": [
      "chr11\n"
     ]
    }
   ],
   "source": [
    "delete_sure = False\n",
    "\n",
    "print(CHR)"
   ]
  },
  {
   "cell_type": "code",
   "execution_count": 109,
   "id": "a3097977",
   "metadata": {},
   "outputs": [
    {
     "name": "stdout",
     "output_type": "stream",
     "text": [
      "logs/optimisation/chr21/coarse\n",
      "latSize_40_lr_0.0005_dropr_0.1\n",
      "latSize_40_lr_0.0005_dropr_0.1\n",
      "Spared best model\n"
     ]
    }
   ],
   "source": [
    "if delete_sure:\n",
    "    ### Get best model\n",
    "    print(PATH_results)\n",
    "    with open(f\"{PATH_results}/best_model_fineOptimization.json\", \"r\") as f: dict_bestModel = json.load(f)\n",
    "    latSize = dict_bestModel[\"latSize\"]\n",
    "    lr = dict_bestModel[\"lr\"]\n",
    "    dropr = dict_bestModel[\"dropr\"]    \n",
    "    name = f\"latSize_{latSize}_lr_{lr}_dropr_{dropr}\"\n",
    "    print(name)\n",
    "    \n",
    "    ### Deleete all .pth but best model\n",
    "    for folder in os.listdir(PATH_results):\n",
    "        if folder.startswith(\"latSize_\"):\n",
    "            if folder.startswith(name):\n",
    "                print(folder)\n",
    "                print(\"Spared best model\")\n",
    "            else:\n",
    "                try:\n",
    "                    os.remove(f\"{PATH_results}/{folder}/checkpoint/trainedModel.pth\")\n",
    "                except FileNotFoundError:\n",
    "                    continue"
   ]
  },
  {
   "cell_type": "code",
   "execution_count": null,
   "id": "4ee5b523",
   "metadata": {},
   "outputs": [],
   "source": []
  },
  {
   "cell_type": "code",
   "execution_count": null,
   "id": "2f8050a0",
   "metadata": {},
   "outputs": [],
   "source": []
  },
  {
   "cell_type": "code",
   "execution_count": null,
   "id": "2fbbf13c",
   "metadata": {},
   "outputs": [],
   "source": []
  },
  {
   "cell_type": "code",
   "execution_count": null,
   "id": "da99afd6",
   "metadata": {},
   "outputs": [],
   "source": []
  },
  {
   "cell_type": "code",
   "execution_count": null,
   "id": "f8c48952",
   "metadata": {},
   "outputs": [],
   "source": []
  },
  {
   "cell_type": "code",
   "execution_count": null,
   "id": "26ea2afd",
   "metadata": {},
   "outputs": [],
   "source": []
  }
 ],
 "metadata": {
  "kernelspec": {
   "display_name": "Python 3 (ipykernel)",
   "language": "python",
   "name": "python3"
  },
  "language_info": {
   "codemirror_mode": {
    "name": "ipython",
    "version": 3
   },
   "file_extension": ".py",
   "mimetype": "text/x-python",
   "name": "python",
   "nbconvert_exporter": "python",
   "pygments_lexer": "ipython3",
   "version": "3.9.16"
  }
 },
 "nbformat": 4,
 "nbformat_minor": 5
}
